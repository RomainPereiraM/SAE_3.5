{
 "cells": [
  {
   "cell_type": "markdown",
   "id": "0a361880",
   "metadata": {},
   "source": [
    "# Reconnaissance faciale via $k$ plus proches voisins ($k$-NN)\n",
    "\n",
    ">## Partie 1: Dataset"
   ]
  },
  {
   "cell_type": "markdown",
   "id": "9a9f35df",
   "metadata": {},
   "source": [
    "## Librairies"
   ]
  },
  {
   "cell_type": "markdown",
   "id": "d691df55",
   "metadata": {},
   "source": [
    "- La librairie `cv2` permet la détection automatique de visages, entre autres.\n",
    "\n",
    "- La librairie `pickle` permet de sauvegarder vos modèles une fois entraînés, et de les recharger pour pouvoir les utiliser."
   ]
  },
  {
   "cell_type": "code",
   "execution_count": 56,
   "id": "8a41298c",
   "metadata": {
    "ExecuteTime": {
     "end_time": "2024-02-29T13:59:55.926347Z",
     "start_time": "2024-02-29T13:59:55.923580Z"
    }
   },
   "outputs": [],
   "source": [
    "import os\n",
    "\n",
    "import cv2\n",
    "import pickle\n",
    "\n",
    "import numpy as np\n",
    "\n",
    "import matplotlib.pyplot as plt"
   ]
  },
  {
   "cell_type": "markdown",
   "id": "2089bbe3",
   "metadata": {},
   "source": [
    "## Création du dataset"
   ]
  },
  {
   "cell_type": "markdown",
   "id": "b0183880",
   "metadata": {},
   "source": [
    "Le code suivant permet de créer un **dataset** d'images que vous utiliserez dans votre projet de **reconnaissance faciale**. Ce dataset contiendra des images de vous-même associées à votre nom ainsi que des images d'autres personnes (par exemple vos camarades) associées à leurs noms. **À chaque fois que vos relancez le code ci-dessous, votre caméra capture 10 images de la personne qui se trouve devant vootre PC et ajoute ces dernières à votre dataset.** \n",
    "\n",
    "Le code effectue les opérations suivantes. Premièrement, on lit le flux vidéo de votre caméra et on détecte automatiquement les visages dans chaque image de ce flux en utilisant le **classificateur en cascade de Haar (Haar cascade classifier)** de la librairie `OpenCV`. \n",
    "\n",
    "Plus précisément, tant que la variable `ret` est vraie, indiquant que le flux vidéo est lu correctement, pour chaque image capturée par la caméras, on effectue les opérations suivantes:\n",
    "1. on convertit l'image en niveaux de gris;\n",
    "2. on détecte les coordonnées du visage en utilisant le classificateur en cascade de Haar;\n",
    "3. on recadre la région du visage et la redimensionne en $50 \\times 50$ pixels;\n",
    "4. on ajoute l'image du visage redimensionné à la liste `donnees_visage`, à chaque intervalle de $10$ images.\n",
    "\n",
    "Une fois que $10$ images de votre visage ont été collecteés, ou si l'utilisateur appuye sur la touche `Esc`, on met fin à la boucle et enregistre les images dans la liste `donnees_visage` sous forme d'un tableau `NumPy`.\n",
    "\n",
    "Par la suite, l'existence des fichiers `noms.pkl` et `visages.pkl` est vérifiée. S'ils n'existent pas, de nouveaux fichiers sont créés, la variable `nom` est enregistrée dans `noms.pkl` et les données de visage sont enregistrées dans `visages.pkl`. Si ces fichiers existent déjà, le code charge les données existantes, ajoute les nouvelles données de visage et noms, et les réenregistre le tout dans ces fichiers."
   ]
  },
  {
   "cell_type": "code",
   "execution_count": 57,
   "id": "1ba3a98f",
   "metadata": {
    "ExecuteTime": {
     "end_time": "2024-02-29T14:00:16.903854Z",
     "start_time": "2024-02-29T13:59:55.927919Z"
    }
   },
   "outputs": [],
   "source": [
    "# ================== #\n",
    "# Variables globales #\n",
    "# ================== #\n",
    "if not os.path.exists(\"data\"):\n",
    "    os.mkdir(\"data\")         # création d'un répertoire data\n",
    "\n",
    "nb_images_collectees = 20    # nombre d'image que vous voulez collecter\n",
    "\n",
    "donnees_visage = []\n",
    "\n",
    "camera = cv2.VideoCapture(0) # 0 pour 'built-in' caméra, 1 pour caméra externe\n",
    "\n",
    "cascade_visage = cv2.CascadeClassifier(cv2.data.haarcascades + 'haarcascade_frontalface_default.xml')\n",
    "\n",
    "\n",
    "\n",
    "# =============================== #\n",
    "# Capture des data: nom et images #\n",
    "# =============================== #\n",
    "nom = input(\"Entrez votre nom: \")\n",
    "\n",
    "ret = True\n",
    "i = 0\n",
    "\n",
    "while(ret):\n",
    "    \n",
    "    ret, frame = camera.read()\n",
    "    \n",
    "    if ret == True:\n",
    "        \n",
    "        gris = cv2.cvtColor(frame, cv2.COLOR_BGR2GRAY)\n",
    "\n",
    "        coordonnees_visage = cascade_visage.detectMultiScale(gris, 1.3, 4)\n",
    "\n",
    "        for (a, b, w, h) in coordonnees_visage:\n",
    "            \n",
    "            visages = frame[b:b+h, a:a+w, :]\n",
    "            visages_redimensionnes = cv2.resize(visages, (50, 50))\n",
    "            \n",
    "            if i % 10 == 0 and len(donnees_visage) < nb_images_collectees:\n",
    "                \n",
    "                donnees_visage.append(visages_redimensionnes)\n",
    "                \n",
    "            cv2.rectangle(frame, (a, b), (a+w, b+h), (255, 0, 0), 2)\n",
    "            \n",
    "        i += 1\n",
    "\n",
    "        cv2.imshow('Visages', frame)\n",
    "\n",
    "        if cv2.waitKey(1) == 27 or len(donnees_visage) >= nb_images_collectees:\n",
    "            \n",
    "            break\n",
    "    else:\n",
    "        \n",
    "        print('erreur')\n",
    "        break\n",
    "    \n",
    "\n",
    "cv2.destroyAllWindows()\n",
    "camera.release()\n",
    "\n",
    "donnees_visage = np.asarray(donnees_visage)\n",
    "# donnees_visage = donnees_visage.reshape(10, -1)\n",
    "\n",
    "\n",
    "# ====================================== #\n",
    "# Enregistrement des data: nom et images #\n",
    "# ====================================== #\n",
    "if 'noms.pkl' not in os.listdir('data/'):\n",
    "    \n",
    "    noms = [nom]*nb_images_collectees\n",
    "    with open('data/noms.pkl', 'wb') as file:\n",
    "        pickle.dump(noms, file)\n",
    "else:\n",
    "    \n",
    "    with open('data/noms.pkl', 'rb') as file:\n",
    "        noms = pickle.load(file)\n",
    "\n",
    "    noms = noms + [nom]*nb_images_collectees\n",
    "    with open('data/noms.pkl', 'wb') as file:\n",
    "        pickle.dump(noms, file)\n",
    "\n",
    "\n",
    "if 'visages.pkl' not in os.listdir('data/'):\n",
    "    \n",
    "    with open('data/visages.pkl', 'wb') as w:\n",
    "        pickle.dump(donnees_visage, w)\n",
    "else:\n",
    "    \n",
    "    with open('data/visages.pkl', 'rb') as w:\n",
    "        visages = pickle.load(w)\n",
    "\n",
    "    visages = np.append(visages, donnees_visage, axis=0)\n",
    "    with open('data/visages.pkl', 'wb') as w:\n",
    "        pickle.dump(visages, w)"
   ]
  },
  {
   "cell_type": "markdown",
   "source": [],
   "metadata": {
    "collapsed": false
   },
   "id": "616d8be8e8a857b6"
  },
  {
   "cell_type": "markdown",
   "id": "e3bec3e0",
   "metadata": {},
   "source": [
    "## Visualisation du dataset"
   ]
  },
  {
   "cell_type": "markdown",
   "id": "08df3d2c",
   "metadata": {},
   "source": [
    "Le instructions suivantes permettent de loader votre dataset et de comprendre comment sont stockées les data.\n",
    "\n",
    "Prêtez attention aux types de vos data, en particulier à la dimension de vos images, etc."
   ]
  },
  {
   "cell_type": "code",
   "execution_count": 58,
   "id": "c4c5cd3d",
   "metadata": {
    "ExecuteTime": {
     "end_time": "2024-02-29T14:00:16.908384Z",
     "start_time": "2024-02-29T14:00:16.905445Z"
    }
   },
   "outputs": [],
   "source": [
    "with open(\"data/noms.pkl\", \"rb\") as fh:\n",
    "    noms = pickle.load(fh)"
   ]
  },
  {
   "cell_type": "code",
   "execution_count": 59,
   "id": "b3af5a29",
   "metadata": {
    "ExecuteTime": {
     "end_time": "2024-02-29T14:00:16.912826Z",
     "start_time": "2024-02-29T14:00:16.909200Z"
    }
   },
   "outputs": [
    {
     "data": {
      "text/plain": "['paul',\n 'paul',\n 'paul',\n 'paul',\n 'paul',\n 'paul',\n 'paul',\n 'paul',\n 'paul',\n 'paul',\n 'paul',\n 'paul',\n 'paul',\n 'paul',\n 'paul',\n 'paul',\n 'paul',\n 'paul',\n 'paul',\n 'paul',\n 'alexis',\n 'alexis',\n 'alexis',\n 'alexis',\n 'alexis',\n 'alexis',\n 'alexis',\n 'alexis',\n 'alexis',\n 'alexis',\n 'alexis',\n 'alexis',\n 'alexis',\n 'alexis',\n 'alexis',\n 'alexis',\n 'alexis',\n 'alexis',\n 'alexis',\n 'alexis',\n 'elise',\n 'elise',\n 'elise',\n 'elise',\n 'elise',\n 'elise',\n 'elise',\n 'elise',\n 'elise',\n 'elise',\n 'elise',\n 'elise',\n 'elise',\n 'elise',\n 'elise',\n 'elise',\n 'elise',\n 'elise',\n 'elise',\n 'elise']"
     },
     "execution_count": 59,
     "metadata": {},
     "output_type": "execute_result"
    }
   ],
   "source": [
    "noms"
   ]
  },
  {
   "cell_type": "code",
   "execution_count": 60,
   "id": "d7fc242c",
   "metadata": {
    "ExecuteTime": {
     "end_time": "2024-02-29T14:00:16.919558Z",
     "start_time": "2024-02-29T14:00:16.914637Z"
    }
   },
   "outputs": [],
   "source": [
    "with open(\"data/visages.pkl\", \"rb\") as fh:\n",
    "    visages = pickle.load(fh)"
   ]
  },
  {
   "cell_type": "code",
   "execution_count": 61,
   "id": "10dab6d3",
   "metadata": {
    "ExecuteTime": {
     "end_time": "2024-02-29T14:00:16.926240Z",
     "start_time": "2024-02-29T14:00:16.921239Z"
    }
   },
   "outputs": [
    {
     "data": {
      "text/plain": "array([[[[ 41,  45,  47],\n         [ 73,  77,  82],\n         [ 44,  50,  63],\n         ...,\n         [206, 215, 216],\n         [206, 215, 216],\n         [206, 214, 218]],\n\n        [[ 40,  43,  49],\n         [ 40,  43,  49],\n         [ 58,  64,  79],\n         ...,\n         [202, 212, 213],\n         [203, 209, 213],\n         [203, 212, 215]],\n\n        [[ 44,  48,  54],\n         [ 41,  44,  51],\n         [ 35,  39,  53],\n         ...,\n         [187, 196, 198],\n         [183, 193, 194],\n         [179, 191, 192]],\n\n        ...,\n\n        [[ 36,  40,  44],\n         [ 39,  43,  46],\n         [ 50,  51,  58],\n         ...,\n         [123, 121, 119],\n         [128, 126, 126],\n         [111, 109, 109]],\n\n        [[ 40,  44,  48],\n         [ 37,  41,  45],\n         [ 49,  51,  56],\n         ...,\n         [127, 125, 123],\n         [123, 121, 119],\n         [122, 120, 118]],\n\n        [[ 39,  43,  46],\n         [ 36,  40,  44],\n         [ 48,  49,  53],\n         ...,\n         [116, 114, 114],\n         [112, 110, 110],\n         [118, 117, 114]]],\n\n\n       [[[ 51,  49,  49],\n         [108,  95,  89],\n         [ 35,  46,  60],\n         ...,\n         [204, 213, 216],\n         [203, 212, 215],\n         [203, 212, 215]],\n\n        [[ 47,  51,  47],\n         [ 55,  54,  58],\n         [ 41,  47,  63],\n         ...,\n         [206, 214, 218],\n         [205, 213, 217],\n         [204, 213, 216]],\n\n        [[ 48,  50,  50],\n         [ 61,  61,  62],\n         [ 46,  46,  54],\n         ...,\n         [206, 214, 218],\n         [204, 213, 216],\n         [206, 214, 218]],\n\n        ...,\n\n        [[ 63,  66,  66],\n         [ 50,  52,  56],\n         [ 37,  39,  41],\n         ...,\n         [186, 192, 194],\n         [188, 194, 196],\n         [189, 196, 197]],\n\n        [[ 43,  45,  47],\n         [ 48,  50,  52],\n         [ 36,  38,  40],\n         ...,\n         [194, 200, 202],\n         [193, 198, 200],\n         [198, 203, 202]],\n\n        [[ 41,  42,  46],\n         [ 78,  80,  84],\n         [ 29,  31,  34],\n         ...,\n         [120, 118, 119],\n         [142, 140, 139],\n         [151, 154, 154]]],\n\n\n       [[[ 76,  77,  81],\n         [168, 169, 178],\n         [ 50,  54,  71],\n         ...,\n         [203, 212, 215],\n         [203, 211, 214],\n         [204, 212, 215]],\n\n        [[131, 115, 102],\n         [ 87,  86, 100],\n         [ 47,  53,  66],\n         ...,\n         [203, 212, 215],\n         [204, 213, 216],\n         [203, 212, 214]],\n\n        [[ 49,  54,  54],\n         [ 41,  47,  52],\n         [ 50,  55,  71],\n         ...,\n         [204, 213, 217],\n         [205, 214, 218],\n         [206, 215, 219]],\n\n        ...,\n\n        [[196, 200, 204],\n         [200, 205, 206],\n         [201, 206, 207],\n         ...,\n         [174, 183, 184],\n         [169, 178, 181],\n         [164, 172, 176]],\n\n        [[197, 201, 205],\n         [205, 207, 209],\n         [ 89,  93,  97],\n         ...,\n         [173, 182, 183],\n         [171, 179, 183],\n         [165, 173, 177]],\n\n        [[112, 114, 118],\n         [ 78,  82,  87],\n         [ 75,  79,  80],\n         ...,\n         [180, 187, 188],\n         [179, 185, 187],\n         [172, 181, 182]]],\n\n\n       ...,\n\n\n       [[[ 77,  89, 120],\n         [ 56,  67,  96],\n         [ 62,  72, 100],\n         ...,\n         [161, 158, 170],\n         [163, 160, 171],\n         [163, 160, 172]],\n\n        [[ 51,  62,  88],\n         [ 59,  69,  95],\n         [ 49,  60,  84],\n         ...,\n         [162, 159, 171],\n         [162, 159, 171],\n         [162, 159, 171]],\n\n        [[ 44,  53,  75],\n         [ 39,  48,  70],\n         [ 40,  49,  70],\n         ...,\n         [160, 158, 169],\n         [161, 158, 170],\n         [162, 159, 171]],\n\n        ...,\n\n        [[ 35,  38,  56],\n         [ 30,  33,  50],\n         [ 33,  36,  54],\n         ...,\n         [196, 184, 196],\n         [198, 185, 196],\n         [197, 183, 195]],\n\n        [[ 31,  34,  51],\n         [ 30,  32,  50],\n         [ 34,  37,  55],\n         ...,\n         [110, 104, 119],\n         [104,  99, 115],\n         [187, 178, 190]],\n\n        [[ 40,  45,  65],\n         [ 35,  40,  57],\n         [ 37,  40,  57],\n         ...,\n         [174, 166, 180],\n         [166, 156, 171],\n         [112, 109, 120]]],\n\n\n       [[[ 38,  45,  67],\n         [ 42,  48,  70],\n         [ 45,  52,  74],\n         ...,\n         [153, 152, 159],\n         [153, 152, 159],\n         [153, 152, 161]],\n\n        [[ 35,  41,  63],\n         [ 39,  46,  68],\n         [ 42,  48,  70],\n         ...,\n         [152, 151, 158],\n         [153, 152, 159],\n         [153, 152, 161]],\n\n        [[ 29,  36,  57],\n         [ 35,  41,  63],\n         [ 38,  45,  67],\n         ...,\n         [152, 150, 159],\n         [154, 153, 162],\n         [152, 151, 160]],\n\n        ...,\n\n        [[ 22,  27,  44],\n         [ 16,  19,  37],\n         [ 16,  21,  38],\n         ...,\n         [188, 176, 183],\n         [188, 176, 183],\n         [187, 175, 182]],\n\n        [[ 23,  27,  46],\n         [ 13,  16,  34],\n         [  9,  12,  29],\n         ...,\n         [189, 176, 184],\n         [190, 177, 184],\n         [190, 177, 184]],\n\n        [[ 20,  25,  45],\n         [ 11,  14,  32],\n         [  9,  12,  29],\n         ...,\n         [189, 179, 187],\n         [191, 180, 188],\n         [193, 181, 189]]],\n\n\n       [[[ 16,  21,  38],\n         [ 22,  27,  45],\n         [ 36,  41,  60],\n         ...,\n         [ 16,  23,  43],\n         [ 16,  23,  43],\n         [ 18,  23,  43]],\n\n        [[ 20,  25,  44],\n         [ 27,  32,  52],\n         [ 43,  50,  70],\n         ...,\n         [ 18,  26,  45],\n         [ 18,  26,  45],\n         [ 21,  26,  46]],\n\n        [[ 24,  29,  48],\n         [ 34,  40,  61],\n         [ 53,  60,  82],\n         ...,\n         [ 21,  29,  48],\n         [ 22,  29,  49],\n         [ 24,  29,  49]],\n\n        ...,\n\n        [[ 48,  51,  71],\n         [ 47,  50,  69],\n         [ 48,  51,  71],\n         ...,\n         [ 48,  53,  75],\n         [ 47,  52,  74],\n         [ 47,  51,  75]],\n\n        [[ 48,  51,  71],\n         [ 47,  49,  68],\n         [ 47,  50,  69],\n         ...,\n         [ 48,  52,  75],\n         [ 47,  51,  75],\n         [ 47,  51,  75]],\n\n        [[ 48,  51,  70],\n         [ 46,  48,  68],\n         [ 47,  49,  68],\n         ...,\n         [ 47,  52,  75],\n         [ 47,  51,  75],\n         [ 47,  51,  75]]]], dtype=uint8)"
     },
     "execution_count": 61,
     "metadata": {},
     "output_type": "execute_result"
    }
   ],
   "source": [
    "visages"
   ]
  },
  {
   "cell_type": "code",
   "execution_count": 62,
   "id": "a8436555",
   "metadata": {
    "ExecuteTime": {
     "end_time": "2024-02-29T14:00:16.930253Z",
     "start_time": "2024-02-29T14:00:16.927221Z"
    }
   },
   "outputs": [
    {
     "data": {
      "text/plain": "(60, 50, 50, 3)"
     },
     "execution_count": 62,
     "metadata": {},
     "output_type": "execute_result"
    }
   ],
   "source": [
    "visages.shape"
   ]
  },
  {
   "cell_type": "code",
   "execution_count": 63,
   "id": "1ef19a8e",
   "metadata": {
    "ExecuteTime": {
     "end_time": "2024-02-29T14:00:16.934016Z",
     "start_time": "2024-02-29T14:00:16.931118Z"
    }
   },
   "outputs": [
    {
     "data": {
      "text/plain": "(50, 50, 3)"
     },
     "execution_count": 63,
     "metadata": {},
     "output_type": "execute_result"
    }
   ],
   "source": [
    "sample_1 = visages[0]\n",
    "sample_1.shape"
   ]
  },
  {
   "cell_type": "code",
   "execution_count": 64,
   "id": "c3539263",
   "metadata": {
    "ExecuteTime": {
     "end_time": "2024-02-29T14:00:17.014086Z",
     "start_time": "2024-02-29T14:00:16.934916Z"
    }
   },
   "outputs": [
    {
     "data": {
      "text/plain": "<matplotlib.image.AxesImage at 0x1395d12b0>"
     },
     "execution_count": 64,
     "metadata": {},
     "output_type": "execute_result"
    },
    {
     "data": {
      "text/plain": "<Figure size 640x480 with 1 Axes>",
      "image/png": "[encoded data removed]"
     },
     "metadata": {},
     "output_type": "display_data"
    }
   ],
   "source": [
    "plt.imshow(sample_1, interpolation=\"nearest\")"
   ]
  },
  {
   "cell_type": "code",
   "execution_count": 65,
   "id": "ac4aaef1",
   "metadata": {
    "ExecuteTime": {
     "end_time": "2024-02-29T14:00:17.018400Z",
     "start_time": "2024-02-29T14:00:17.015084Z"
    }
   },
   "outputs": [
    {
     "data": {
      "text/plain": "(50, 50, 3)"
     },
     "execution_count": 65,
     "metadata": {},
     "output_type": "execute_result"
    }
   ],
   "source": [
    "sample_2 = visages[5]\n",
    "sample_2.shape"
   ]
  },
  {
   "cell_type": "code",
   "execution_count": 66,
   "id": "ed489bfa",
   "metadata": {
    "ExecuteTime": {
     "end_time": "2024-02-29T14:00:17.095306Z",
     "start_time": "2024-02-29T14:00:17.020750Z"
    }
   },
   "outputs": [
    {
     "data": {
      "text/plain": "<matplotlib.image.AxesImage at 0x139635610>"
     },
     "execution_count": 66,
     "metadata": {},
     "output_type": "execute_result"
    },
    {
     "data": {
      "text/plain": "<Figure size 640x480 with 1 Axes>",
      "image/png": "[encoded data removed]"
     },
     "metadata": {},
     "output_type": "display_data"
    }
   ],
   "source": [
    "plt.imshow(sample_2, interpolation=\"nearest\")"
   ]
  },
  {
   "cell_type": "code",
   "execution_count": 66,
   "id": "06a26147",
   "metadata": {
    "ExecuteTime": {
     "end_time": "2024-02-29T14:00:17.098857Z",
     "start_time": "2024-02-29T14:00:17.096471Z"
    }
   },
   "outputs": [],
   "source": []
  },
  {
   "cell_type": "code",
   "outputs": [],
   "source": [],
   "metadata": {
    "collapsed": false,
    "ExecuteTime": {
     "end_time": "2024-02-29T14:00:17.101988Z",
     "start_time": "2024-02-29T14:00:17.099876Z"
    }
   },
   "id": "85888a3262bd9e01",
   "execution_count": 66
  }
 ],
 "metadata": {
  "kernelspec": {
   "name": "python3",
   "language": "python",
   "display_name": "Python 3 (ipykernel)"
  },
  "language_info": {
   "codemirror_mode": {
    "name": "ipython",
    "version": 3
   },
   "file_extension": ".py",
   "mimetype": "text/x-python",
   "name": "python",
   "nbconvert_exporter": "python",
   "pygments_lexer": "ipython3",
   "version": "3.9.5"
  }
 },
 "nbformat": 4,
 "nbformat_minor": 5
}
