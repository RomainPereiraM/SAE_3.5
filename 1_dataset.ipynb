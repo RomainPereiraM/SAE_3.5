{
 "cells": [
  {
   "cell_type": "markdown",
   "id": "0a361880",
   "metadata": {},
   "source": [
    "# Reconnaissance faciale via $k$ plus proches voisins ($k$-NN)\n",
    "\n",
    ">## Partie 1: Dataset"
   ]
  },
  {
   "cell_type": "markdown",
   "id": "9a9f35df",
   "metadata": {},
   "source": [
    "## Librairies"
   ]
  },
  {
   "cell_type": "markdown",
   "id": "d691df55",
   "metadata": {},
   "source": [
    "- La librairie `cv2` permet la détection automatique de visages, entre autres.\n",
    "\n",
    "- La librairie `pickle` permet de sauvegarder vos modèles une fois entraînés, et de les recharger pour pouvoir les utiliser."
   ]
  },
  {
   "cell_type": "code",
   "execution_count": 2,
   "id": "8a41298c",
   "metadata": {
    "ExecuteTime": {
     "end_time": "2024-02-26T10:03:48.630716Z",
     "start_time": "2024-02-26T10:03:48.011148Z"
    }
   },
   "outputs": [],
   "source": [
    "import os\n",
    "\n",
    "import cv2\n",
    "import pickle\n",
    "\n",
    "import numpy as np\n",
    "\n",
    "import matplotlib.pyplot as plt"
   ]
  },
  {
   "cell_type": "markdown",
   "id": "2089bbe3",
   "metadata": {},
   "source": [
    "## Création du dataset"
   ]
  },
  {
   "cell_type": "markdown",
   "id": "b0183880",
   "metadata": {},
   "source": [
    "Le code suivant permet de créer un **dataset** d'images que vous utiliserez dans votre projet de **reconnaissance faciale**. Ce dataset contiendra des images de vous-même associées à votre nom ainsi que des images d'autres personnes (par exemple vos camarades) associées à leurs noms. **À chaque fois que vos relancez le code ci-dessous, votre caméra capture 10 images de la personne qui se trouve devant vootre PC et ajoute ces dernières à votre dataset.** \n",
    "\n",
    "Le code effectue les opérations suivantes. Premièrement, on lit le flux vidéo de votre caméra et on détecte automatiquement les visages dans chaque image de ce flux en utilisant le **classificateur en cascade de Haar (Haar cascade classifier)** de la librairie `OpenCV`. \n",
    "\n",
    "Plus précisément, tant que la variable `ret` est vraie, indiquant que le flux vidéo est lu correctement, pour chaque image capturée par la caméras, on effectue les opérations suivantes:\n",
    "1. on convertit l'image en niveaux de gris;\n",
    "2. on détecte les coordonnées du visage en utilisant le classificateur en cascade de Haar;\n",
    "3. on recadre la région du visage et la redimensionne en $50 \\times 50$ pixels;\n",
    "4. on ajoute l'image du visage redimensionné à la liste `donnees_visage`, à chaque intervalle de $10$ images.\n",
    "\n",
    "Une fois que $10$ images de votre visage ont été collecteés, ou si l'utilisateur appuye sur la touche `Esc`, on met fin à la boucle et enregistre les images dans la liste `donnees_visage` sous forme d'un tableau `NumPy`.\n",
    "\n",
    "Par la suite, l'existence des fichiers `noms.pkl` et `visages.pkl` est vérifiée. S'ils n'existent pas, de nouveaux fichiers sont créés, la variable `nom` est enregistrée dans `noms.pkl` et les données de visage sont enregistrées dans `visages.pkl`. Si ces fichiers existent déjà, le code charge les données existantes, ajoute les nouvelles données de visage et noms, et les réenregistre le tout dans ces fichiers."
   ]
  },
  {
   "cell_type": "code",
   "execution_count": 17,
   "id": "1ba3a98f",
   "metadata": {
    "ExecuteTime": {
     "end_time": "2024-02-26T10:30:02.709225Z",
     "start_time": "2024-02-26T10:29:48.546293Z"
    }
   },
   "outputs": [],
   "source": [
    "# ================== #\n",
    "# Variables globales #\n",
    "# ================== #\n",
    "if not os.path.exists(\"data\"):\n",
    "    os.mkdir(\"data\")         # création d'un répertoire data\n",
    "\n",
    "nb_images_collectees = 10    # nombre d'image que vous voulez collecter\n",
    "\n",
    "donnees_visage = []\n",
    "\n",
    "camera = cv2.VideoCapture(0) # 0 pour 'built-in' caméra, 1 pour caméra externe\n",
    "\n",
    "cascade_visage = cv2.CascadeClassifier(cv2.data.haarcascades + 'haarcascade_frontalface_default.xml')\n",
    "\n",
    "\n",
    "\n",
    "# =============================== #\n",
    "# Capture des data: nom et images #\n",
    "# =============================== #\n",
    "nom = input(\"Entrez votre nom: \")\n",
    "\n",
    "ret = True\n",
    "i = 0\n",
    "\n",
    "while(ret):\n",
    "    \n",
    "    ret, frame = camera.read()\n",
    "    \n",
    "    if ret == True:\n",
    "        \n",
    "        gris = cv2.cvtColor(frame, cv2.COLOR_BGR2GRAY)\n",
    "\n",
    "        coordonnees_visage = cascade_visage.detectMultiScale(gris, 1.3, 4)\n",
    "\n",
    "        for (a, b, w, h) in coordonnees_visage:\n",
    "            \n",
    "            visages = frame[b:b+h, a:a+w, :]\n",
    "            visages_redimensionnes = cv2.resize(visages, (50, 50))\n",
    "            \n",
    "            if i % 10 == 0 and len(donnees_visage) < nb_images_collectees:\n",
    "                \n",
    "                donnees_visage.append(visages_redimensionnes)\n",
    "                \n",
    "            cv2.rectangle(frame, (a, b), (a+w, b+h), (255, 0, 0), 2)\n",
    "            \n",
    "        i += 1\n",
    "\n",
    "        cv2.imshow('Visages', frame)\n",
    "\n",
    "        if cv2.waitKey(1) == 27 or len(donnees_visage) >= nb_images_collectees:\n",
    "            \n",
    "            break\n",
    "    else:\n",
    "        \n",
    "        print('erreur')\n",
    "        break\n",
    "    \n",
    "\n",
    "cv2.destroyAllWindows()\n",
    "camera.release()\n",
    "\n",
    "donnees_visage = np.asarray(donnees_visage)\n",
    "# donnees_visage = donnees_visage.reshape(10, -1)\n",
    "\n",
    "\n",
    "# ====================================== #\n",
    "# Enregistrement des data: nom et images #\n",
    "# ====================================== #\n",
    "if 'noms.pkl' not in os.listdir('data/'):\n",
    "    \n",
    "    noms = [nom]*10\n",
    "    with open('data/noms.pkl', 'wb') as file:\n",
    "        pickle.dump(noms, file)\n",
    "else:\n",
    "    \n",
    "    with open('data/noms.pkl', 'rb') as file:\n",
    "        noms = pickle.load(file)\n",
    "\n",
    "    noms = noms + [nom]*10\n",
    "    with open('data/noms.pkl', 'wb') as file:\n",
    "        pickle.dump(noms, file)\n",
    "\n",
    "\n",
    "if 'visages.pkl' not in os.listdir('data/'):\n",
    "    \n",
    "    with open('data/visages.pkl', 'wb') as w:\n",
    "        pickle.dump(donnees_visage, w)\n",
    "else:\n",
    "    \n",
    "    with open('data/visages.pkl', 'rb') as w:\n",
    "        visages = pickle.load(w)\n",
    "\n",
    "    visages = np.append(visages, donnees_visage, axis=0)\n",
    "    with open('data/visages.pkl', 'wb') as w:\n",
    "        pickle.dump(visages, w)"
   ]
  },
  {
   "cell_type": "markdown",
   "source": [],
   "metadata": {
    "collapsed": false
   },
   "id": "616d8be8e8a857b6"
  },
  {
   "cell_type": "markdown",
   "id": "e3bec3e0",
   "metadata": {},
   "source": [
    "## Visualisation du dataset"
   ]
  },
  {
   "cell_type": "markdown",
   "id": "08df3d2c",
   "metadata": {},
   "source": [
    "Le instructions suivantes permettent de loader votre dataset et de comprendre comment sont stockées les data.\n",
    "\n",
    "Prêtez attention aux types de vos data, en particulier à la dimension de vos images, etc."
   ]
  },
  {
   "cell_type": "code",
   "execution_count": 18,
   "id": "c4c5cd3d",
   "metadata": {
    "ExecuteTime": {
     "end_time": "2024-02-26T10:30:19.899008Z",
     "start_time": "2024-02-26T10:30:19.893785Z"
    }
   },
   "outputs": [],
   "source": [
    "with open(\"data/noms.pkl\", \"rb\") as fh:\n",
    "    noms = pickle.load(fh)"
   ]
  },
  {
   "cell_type": "code",
   "execution_count": 19,
   "id": "b3af5a29",
   "metadata": {
    "ExecuteTime": {
     "end_time": "2024-02-26T10:30:20.467853Z",
     "start_time": "2024-02-26T10:30:20.453269Z"
    }
   },
   "outputs": [
    {
     "data": {
      "text/plain": "['paul',\n 'paul',\n 'paul',\n 'paul',\n 'paul',\n 'paul',\n 'paul',\n 'paul',\n 'paul',\n 'paul',\n 'romain',\n 'romain',\n 'romain',\n 'romain',\n 'romain',\n 'romain',\n 'romain',\n 'romain',\n 'romain',\n 'romain',\n 'ilies',\n 'ilies',\n 'ilies',\n 'ilies',\n 'ilies',\n 'ilies',\n 'ilies',\n 'ilies',\n 'ilies',\n 'ilies']"
     },
     "execution_count": 19,
     "metadata": {},
     "output_type": "execute_result"
    }
   ],
   "source": [
    "noms"
   ]
  },
  {
   "cell_type": "code",
   "execution_count": 20,
   "id": "d7fc242c",
   "metadata": {
    "ExecuteTime": {
     "end_time": "2024-02-26T10:30:21.384912Z",
     "start_time": "2024-02-26T10:30:21.381978Z"
    }
   },
   "outputs": [],
   "source": [
    "with open(\"data/visages.pkl\", \"rb\") as fh:\n",
    "    visages = pickle.load(fh)"
   ]
  },
  {
   "cell_type": "code",
   "execution_count": 21,
   "id": "10dab6d3",
   "metadata": {
    "ExecuteTime": {
     "end_time": "2024-02-26T10:30:21.981358Z",
     "start_time": "2024-02-26T10:30:21.975703Z"
    }
   },
   "outputs": [
    {
     "data": {
      "text/plain": "array([[[[189, 199, 197],\n         [189, 199, 198],\n         [142, 147, 151],\n         ...,\n         [195, 206, 200],\n         [200, 209, 205],\n         [199, 209, 205]],\n\n        [[192, 199, 198],\n         [194, 201, 198],\n         [ 79,  80,  85],\n         ...,\n         [202, 210, 206],\n         [200, 210, 206],\n         [199, 209, 205]],\n\n        [[191, 201, 198],\n         [195, 199, 197],\n         [ 59,  60,  67],\n         ...,\n         [189, 195, 189],\n         [196, 206, 203],\n         [199, 209, 204]],\n\n        ...,\n\n        [[174, 183, 175],\n         [174, 182, 177],\n         [176, 185, 179],\n         ...,\n         [207, 213, 208],\n         [209, 215, 209],\n         [209, 214, 206]],\n\n        [[176, 184, 178],\n         [177, 186, 180],\n         [177, 186, 180],\n         ...,\n         [158, 168, 174],\n         [159, 169, 174],\n         [159, 168, 171]],\n\n        [[175, 183, 178],\n         [176, 185, 179],\n         [176, 185, 179],\n         ...,\n         [151, 163, 165],\n         [153, 164, 168],\n         [153, 164, 168]]],\n\n\n       [[[191, 199, 198],\n         [192, 195, 197],\n         [146, 149, 155],\n         ...,\n         [200, 210, 206],\n         [199, 209, 205],\n         [199, 209, 205]],\n\n        [[193, 200, 199],\n         [190, 194, 195],\n         [ 87,  97, 104],\n         ...,\n         [196, 206, 203],\n         [199, 209, 205],\n         [199, 209, 205]],\n\n        [[195, 201, 199],\n         [161, 166, 168],\n         [ 45,  55,  63],\n         ...,\n         [199, 209, 205],\n         [203, 211, 207],\n         [200, 210, 206]],\n\n        ...,\n\n        [[178, 187, 180],\n         [180, 188, 182],\n         [180, 191, 185],\n         ...,\n         [195, 206, 200],\n         [196, 204, 199],\n         [195, 203, 198]],\n\n        [[179, 187, 181],\n         [179, 187, 181],\n         [181, 189, 184],\n         ...,\n         [197, 206, 200],\n         [197, 206, 200],\n         [196, 204, 199]],\n\n        [[179, 187, 181],\n         [180, 188, 183],\n         [181, 189, 184],\n         ...,\n         [198, 206, 201],\n         [199, 207, 202],\n         [198, 207, 201]]],\n\n\n       [[[193, 200, 197],\n         [192, 199, 197],\n         [193, 199, 197],\n         ...,\n         [197, 208, 202],\n         [194, 205, 199],\n         [194, 205, 197]],\n\n        [[194, 202, 196],\n         [193, 200, 197],\n         [177, 182, 182],\n         ...,\n         [197, 208, 202],\n         [196, 207, 201],\n         [194, 206, 199]],\n\n        [[195, 203, 199],\n         [194, 202, 198],\n         [125, 130, 131],\n         ...,\n         [197, 208, 202],\n         [195, 206, 200],\n         [195, 206, 200]],\n\n        ...,\n\n        [[183, 191, 186],\n         [184, 193, 187],\n         [183, 194, 188],\n         ...,\n         [195, 203, 198],\n         [195, 203, 198],\n         [194, 203, 197]],\n\n        [[183, 192, 186],\n         [184, 193, 187],\n         [186, 194, 188],\n         ...,\n         [200, 207, 199],\n         [200, 207, 199],\n         [199, 206, 198]],\n\n        [[183, 192, 186],\n         [182, 193, 187],\n         [185, 195, 189],\n         ...,\n         [211, 214, 205],\n         [212, 214, 206],\n         [211, 212, 205]]],\n\n\n       ...,\n\n\n       [[[209, 221, 217],\n         [212, 222, 218],\n         [213, 223, 219],\n         ...,\n         [219, 227, 224],\n         [218, 226, 223],\n         [212, 223, 218]],\n\n        [[210, 220, 217],\n         [213, 223, 219],\n         [213, 223, 219],\n         ...,\n         [219, 227, 224],\n         [216, 225, 222],\n         [210, 220, 217]],\n\n        [[208, 218, 216],\n         [212, 222, 218],\n         [215, 222, 219],\n         ...,\n         [218, 226, 223],\n         [212, 223, 219],\n         [208, 219, 215]],\n\n        ...,\n\n        [[200, 213, 216],\n         [201, 215, 218],\n         [204, 213, 216],\n         ...,\n         [127, 149, 161],\n         [112, 136, 150],\n         [107, 132, 145]],\n\n        [[201, 213, 216],\n         [205, 214, 218],\n         [126, 127, 135],\n         ...,\n         [126, 148, 160],\n         [107, 131, 147],\n         [ 99, 126, 142]],\n\n        [[201, 212, 215],\n         [133, 136, 144],\n         [ 55,  53,  64],\n         ...,\n         [123, 146, 159],\n         [103, 129, 145],\n         [ 97, 123, 141]]],\n\n\n       [[[209, 219, 218],\n         [109, 112, 119],\n         [ 30,  28,  39],\n         ...,\n         [105, 109, 115],\n         [216, 228, 227],\n         [217, 232, 228]],\n\n        [[209, 218, 217],\n         [ 43,  41,  51],\n         [ 23,  21,  30],\n         ...,\n         [ 71,  73,  75],\n         [193, 203, 202],\n         [214, 229, 223]],\n\n        [[188, 195, 196],\n         [ 40,  38,  47],\n         [ 21,  19,  28],\n         ...,\n         [ 56,  56,  61],\n         [180, 185, 182],\n         [214, 224, 221]],\n\n        ...,\n\n        [[231, 238, 241],\n         [233, 239, 243],\n         [234, 241, 244],\n         ...,\n         [162, 198, 201],\n         [182, 202, 202],\n         [182, 195, 196]],\n\n        [[220, 229, 232],\n         [213, 221, 227],\n         [211, 221, 227],\n         ...,\n         [141, 169, 171],\n         [196, 216, 209],\n         [180, 200, 195]],\n\n        [[229, 238, 239],\n         [230, 237, 238],\n         [229, 238, 239],\n         ...,\n         [170, 189, 189],\n         [197, 213, 209],\n         [183, 197, 195]]],\n\n\n       [[[201, 214, 210],\n         [203, 214, 210],\n         [203, 214, 210],\n         ...,\n         [211, 223, 219],\n         [210, 223, 219],\n         [210, 223, 219]],\n\n        [[201, 214, 210],\n         [203, 214, 210],\n         [204, 215, 211],\n         ...,\n         [210, 223, 219],\n         [210, 223, 219],\n         [210, 223, 219]],\n\n        [[201, 214, 210],\n         [201, 214, 210],\n         [202, 215, 211],\n         ...,\n         [210, 223, 219],\n         [210, 223, 219],\n         [212, 224, 222]],\n\n        ...,\n\n        [[208, 220, 224],\n         [207, 220, 223],\n         [207, 221, 222],\n         ...,\n         [181, 185, 185],\n         [183, 188, 187],\n         [170, 178, 179]],\n\n        [[208, 220, 222],\n         [208, 222, 223],\n         [207, 221, 222],\n         ...,\n         [152, 161, 166],\n         [129, 145, 150],\n         [121, 139, 148]],\n\n        [[209, 221, 222],\n         [209, 221, 222],\n         [207, 221, 222],\n         ...,\n         [136, 151, 156],\n         [114, 131, 137],\n         [120, 139, 147]]]], dtype=uint8)"
     },
     "execution_count": 21,
     "metadata": {},
     "output_type": "execute_result"
    }
   ],
   "source": [
    "visages"
   ]
  },
  {
   "cell_type": "code",
   "execution_count": 22,
   "id": "a8436555",
   "metadata": {
    "ExecuteTime": {
     "end_time": "2024-02-26T10:30:22.280387Z",
     "start_time": "2024-02-26T10:30:22.276548Z"
    }
   },
   "outputs": [
    {
     "data": {
      "text/plain": "(30, 50, 50, 3)"
     },
     "execution_count": 22,
     "metadata": {},
     "output_type": "execute_result"
    }
   ],
   "source": [
    "visages.shape"
   ]
  },
  {
   "cell_type": "code",
   "execution_count": 23,
   "id": "1ef19a8e",
   "metadata": {
    "ExecuteTime": {
     "end_time": "2024-02-26T10:30:22.482068Z",
     "start_time": "2024-02-26T10:30:22.476346Z"
    }
   },
   "outputs": [
    {
     "data": {
      "text/plain": "(50, 50, 3)"
     },
     "execution_count": 23,
     "metadata": {},
     "output_type": "execute_result"
    }
   ],
   "source": [
    "sample_1 = visages[0]\n",
    "sample_1.shape"
   ]
  },
  {
   "cell_type": "code",
   "execution_count": 24,
   "id": "c3539263",
   "metadata": {
    "ExecuteTime": {
     "end_time": "2024-02-26T10:30:22.765765Z",
     "start_time": "2024-02-26T10:30:22.688206Z"
    }
   },
   "outputs": [
    {
     "data": {
      "text/plain": "<matplotlib.image.AxesImage at 0x175522ca0>"
     },
     "execution_count": 24,
     "metadata": {},
     "output_type": "execute_result"
    },
    {
     "data": {
      "text/plain": "<Figure size 640x480 with 1 Axes>",
      "image/png": "[encoded data removed]"
     },
     "metadata": {},
     "output_type": "display_data"
    }
   ],
   "source": [
    "plt.imshow(sample_1, interpolation=\"nearest\")"
   ]
  },
  {
   "cell_type": "code",
   "execution_count": 25,
   "id": "ac4aaef1",
   "metadata": {
    "ExecuteTime": {
     "end_time": "2024-02-26T10:30:23.075254Z",
     "start_time": "2024-02-26T10:30:23.072199Z"
    }
   },
   "outputs": [
    {
     "data": {
      "text/plain": "(50, 50, 3)"
     },
     "execution_count": 25,
     "metadata": {},
     "output_type": "execute_result"
    }
   ],
   "source": [
    "sample_2 = visages[5]\n",
    "sample_2.shape"
   ]
  },
  {
   "cell_type": "code",
   "execution_count": 26,
   "id": "ed489bfa",
   "metadata": {
    "ExecuteTime": {
     "end_time": "2024-02-26T10:30:23.998494Z",
     "start_time": "2024-02-26T10:30:23.926757Z"
    }
   },
   "outputs": [
    {
     "data": {
      "text/plain": "<matplotlib.image.AxesImage at 0x175a11700>"
     },
     "execution_count": 26,
     "metadata": {},
     "output_type": "execute_result"
    },
    {
     "data": {
      "text/plain": "<Figure size 640x480 with 1 Axes>",
      "image/png": "[encoded data removed]"
     },
     "metadata": {},
     "output_type": "display_data"
    }
   ],
   "source": [
    "plt.imshow(sample_2, interpolation=\"nearest\")"
   ]
  },
  {
   "cell_type": "code",
   "execution_count": 26,
   "id": "06a26147",
   "metadata": {
    "ExecuteTime": {
     "end_time": "2024-02-26T10:30:24.761842Z",
     "start_time": "2024-02-26T10:30:24.754550Z"
    }
   },
   "outputs": [],
   "source": []
  },
  {
   "cell_type": "code",
   "outputs": [],
   "source": [],
   "metadata": {
    "collapsed": false
   },
   "id": "85888a3262bd9e01"
  }
 ],
 "metadata": {
  "kernelspec": {
   "name": "python3",
   "language": "python",
   "display_name": "Python 3 (ipykernel)"
  },
  "language_info": {
   "codemirror_mode": {
    "name": "ipython",
    "version": 3
   },
   "file_extension": ".py",
   "mimetype": "text/x-python",
   "name": "python",
   "nbconvert_exporter": "python",
   "pygments_lexer": "ipython3",
   "version": "3.9.5"
  }
 },
 "nbformat": 4,
 "nbformat_minor": 5
}
